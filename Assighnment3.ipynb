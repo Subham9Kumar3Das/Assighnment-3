{
 "cells": [
  {
   "cell_type": "markdown",
   "id": "2d1b1ef1-b262-4c81-9e9a-08ba7f014a49",
   "metadata": {
    "jp-MarkdownHeadingCollapsed": true,
    "tags": []
   },
   "source": [
    "## Q1. Which keyword is used to create a function? Create a function to return a list of odd numbers in the range of 1 to 25."
   ]
  },
  {
   "cell_type": "markdown",
   "id": "9372555f-1d8a-4375-9012-10b0a0186bc8",
   "metadata": {
    "tags": []
   },
   "source": [
    "###  Ans:-- def is the keyword used to create a function."
   ]
  },
  {
   "cell_type": "code",
   "execution_count": 1,
   "id": "3fec7199-2051-498a-b3f5-9993455397e6",
   "metadata": {},
   "outputs": [],
   "source": [
    "def odd(x):\n",
    "    if x%2!=0:\n",
    "        return x"
   ]
  },
  {
   "cell_type": "code",
   "execution_count": 9,
   "id": "3e93f3bd-648d-428a-b0c4-0e6f198f6faf",
   "metadata": {},
   "outputs": [
    {
     "name": "stdout",
     "output_type": "stream",
     "text": [
      "[1, 3, 5, 7, 9, 11, 13, 15, 17, 19, 21, 23, 25]\n"
     ]
    }
   ],
   "source": [
    "l=[]\n",
    "for i in range(1,26):\n",
    "    if(odd(i)==None):\n",
    "        continue\n",
    "    l.append(odd(i))\n",
    "print(l)  "
   ]
  },
  {
   "cell_type": "markdown",
   "id": "23998dc7-7844-4c7b-be3d-cecb8ef9d9c5",
   "metadata": {
    "jp-MarkdownHeadingCollapsed": true,
    "tags": []
   },
   "source": [
    "# Q2. Why *args and **kwargs is used in some functions? Create a function each for *args and **kwargs to demonstrate their use."
   ]
  },
  {
   "cell_type": "markdown",
   "id": "decf03d1-0185-43c4-bdfa-467545dbc2ce",
   "metadata": {},
   "source": [
    "### Ans:- *args is used in some fuction brcause it allows a user to input as many values he wants which is stored as tuple.**kwargs is used to                input key value that means the inputs are stored as dictionary which has key and values provided by the user and fuction accordingly. "
   ]
  },
  {
   "cell_type": "code",
   "execution_count": 20,
   "id": "1a01b47f-3afd-41b2-93bd-1647d5af3d7d",
   "metadata": {},
   "outputs": [],
   "source": [
    "def p1(*args,**kwargs):\n",
    "    a=kwargs\n",
    "    return map(lambda x:x**2,args)"
   ]
  },
  {
   "cell_type": "code",
   "execution_count": 25,
   "id": "2f073f84-8619-4bf9-99b6-89532d55aec5",
   "metadata": {},
   "outputs": [],
   "source": [
    "def p2(**kwargs):\n",
    "    a=kwargs\n",
    "    return kwargs,a.keys(),a.values()"
   ]
  },
  {
   "cell_type": "code",
   "execution_count": 22,
   "id": "e0b37038-2800-46ac-a6eb-0ffeff50ca2c",
   "metadata": {},
   "outputs": [
    {
     "data": {
      "text/plain": [
       "[1, 4, 9, 16, 25]"
      ]
     },
     "execution_count": 22,
     "metadata": {},
     "output_type": "execute_result"
    }
   ],
   "source": [
    "list(p1(1,2,3,4,5))"
   ]
  },
  {
   "cell_type": "code",
   "execution_count": 26,
   "id": "3a3e6044-d9d2-4abe-936b-72603c4d4448",
   "metadata": {},
   "outputs": [
    {
     "data": {
      "text/plain": [
       "({'a': 16, 'b': 15, 'c': 18, 'd': 19, 'e': 20},\n",
       " dict_keys(['a', 'b', 'c', 'd', 'e']),\n",
       " dict_values([16, 15, 18, 19, 20]))"
      ]
     },
     "execution_count": 26,
     "metadata": {},
     "output_type": "execute_result"
    }
   ],
   "source": [
    "p2(a=16,b=15,c=18,d=19,e=20)"
   ]
  },
  {
   "cell_type": "markdown",
   "id": "0b2709a1-19d4-4796-864a-3b848b56958e",
   "metadata": {
    "jp-MarkdownHeadingCollapsed": true,
    "tags": []
   },
   "source": [
    "# Q3. What is an iterator in python? Name the method used to initialise the iterator object and the method used for iteration. Use these methods to print the first five elements of the given list [2, 4, 6, 8, 10, 12, 14, 16, 18, 20]."
   ]
  },
  {
   "cell_type": "markdown",
   "id": "ba5fd843-01a3-4829-b140-a92e8316e61d",
   "metadata": {},
   "source": [
    "### Ans:-Iterator is a object which makes a way to access one by one element from a collection of elements."
   ]
  },
  {
   "cell_type": "markdown",
   "id": "b9943448-0723-4aa8-ad5b-96af113dd3c0",
   "metadata": {},
   "source": [
    "### The method used to initialise the iterator object is iter() and the method used for teration is next()."
   ]
  },
  {
   "cell_type": "code",
   "execution_count": 2,
   "id": "52cfb9b3-6680-4e2a-86e2-a3660ebb8fb4",
   "metadata": {},
   "outputs": [],
   "source": [
    "l= [2, 4, 6, 8, 10, 12, 14, 16, 18, 20]"
   ]
  },
  {
   "cell_type": "code",
   "execution_count": 3,
   "id": "312f0cbf-6767-4ce9-a23f-70f2942b60bb",
   "metadata": {},
   "outputs": [],
   "source": [
    "i=iter(l)"
   ]
  },
  {
   "cell_type": "code",
   "execution_count": 4,
   "id": "e0e0cd13-2c6a-4b5a-9813-2dc53bd75c3c",
   "metadata": {},
   "outputs": [
    {
     "data": {
      "text/plain": [
       "2"
      ]
     },
     "execution_count": 4,
     "metadata": {},
     "output_type": "execute_result"
    }
   ],
   "source": [
    "next(i)"
   ]
  },
  {
   "cell_type": "code",
   "execution_count": 5,
   "id": "a9395698-0356-4f52-9a47-a22f289320d5",
   "metadata": {},
   "outputs": [
    {
     "data": {
      "text/plain": [
       "4"
      ]
     },
     "execution_count": 5,
     "metadata": {},
     "output_type": "execute_result"
    }
   ],
   "source": [
    "next(i)"
   ]
  },
  {
   "cell_type": "code",
   "execution_count": 6,
   "id": "0264a2ea-a8c4-4dec-843d-d67c255c953b",
   "metadata": {},
   "outputs": [
    {
     "data": {
      "text/plain": [
       "6"
      ]
     },
     "execution_count": 6,
     "metadata": {},
     "output_type": "execute_result"
    }
   ],
   "source": [
    "next(i)"
   ]
  },
  {
   "cell_type": "code",
   "execution_count": 7,
   "id": "4617b194-9565-46f8-a254-fd90840cee07",
   "metadata": {},
   "outputs": [
    {
     "data": {
      "text/plain": [
       "8"
      ]
     },
     "execution_count": 7,
     "metadata": {},
     "output_type": "execute_result"
    }
   ],
   "source": [
    "next(i)"
   ]
  },
  {
   "cell_type": "code",
   "execution_count": 8,
   "id": "f25ef6a9-9ea8-4c2a-b10f-b270f37eb4bf",
   "metadata": {},
   "outputs": [
    {
     "data": {
      "text/plain": [
       "10"
      ]
     },
     "execution_count": 8,
     "metadata": {},
     "output_type": "execute_result"
    }
   ],
   "source": [
    "next(i)"
   ]
  },
  {
   "cell_type": "markdown",
   "id": "657eb166-2348-4171-b97d-5aa4dc9f831b",
   "metadata": {
    "jp-MarkdownHeadingCollapsed": true,
    "tags": []
   },
   "source": [
    "# Q4. What is a generator function in python? Why yield keyword is used? Give an example of a generator function."
   ]
  },
  {
   "cell_type": "markdown",
   "id": "c4b51453-4458-4fc9-a27e-3de99038aa03",
   "metadata": {},
   "source": [
    "### Ans:-Generator function is used to return values without consuming more data.Yield is a statement used in place of return which gives the precise output to caller."
   ]
  },
  {
   "cell_type": "code",
   "execution_count": 1,
   "id": "b8747dcb-53be-4d72-826d-da9fab7a6565",
   "metadata": {},
   "outputs": [
    {
     "name": "stdout",
     "output_type": "stream",
     "text": [
      "0\n",
      "1\n",
      "2\n",
      "3\n",
      "4\n"
     ]
    }
   ],
   "source": [
    "def number(n):\n",
    "    for i in range(n):\n",
    "        yield i\n",
    "\n",
    "# Using the generator function\n",
    "generator = number(5)\n",
    "for num in generator:\n",
    "    print(num)\n"
   ]
  },
  {
   "cell_type": "markdown",
   "id": "c5fe6e20-f411-4393-998e-9ac922045cbb",
   "metadata": {
    "jp-MarkdownHeadingCollapsed": true,
    "tags": []
   },
   "source": [
    "# Q5. Create a generator function for prime numbers less than 1000. Use the next() method to print the first 20 prime numbers."
   ]
  },
  {
   "cell_type": "code",
   "execution_count": 4,
   "id": "a68143d0-8740-4eca-af90-678d90c127bc",
   "metadata": {},
   "outputs": [
    {
     "name": "stdout",
     "output_type": "stream",
     "text": [
      "2\n",
      "3\n",
      "5\n",
      "7\n",
      "11\n",
      "13\n",
      "17\n",
      "19\n",
      "23\n",
      "29\n",
      "31\n",
      "37\n",
      "41\n",
      "43\n",
      "47\n",
      "53\n",
      "59\n",
      "61\n",
      "67\n",
      "71\n"
     ]
    }
   ],
   "source": [
    "def prime(n):\n",
    "    for i in range(n):\n",
    "        c=0\n",
    "        for j in range(1,i+1):\n",
    "            if i%j==0:\n",
    "                c+=1\n",
    "        if c==2:\n",
    "            yield i\n",
    "k=0\n",
    "for num in prime(1000):\n",
    "    k+=1\n",
    "    print(num)\n",
    "    if k==20:\n",
    "        break\n",
    "    \n",
    "        \n",
    "    "
   ]
  },
  {
   "cell_type": "markdown",
   "id": "8621ef3e-5323-4d80-8510-06943f2cf9f1",
   "metadata": {
    "jp-MarkdownHeadingCollapsed": true,
    "tags": []
   },
   "source": [
    "# Q6. Write a python program to print the first 10 Fibonacci numbers using a while loop."
   ]
  },
  {
   "cell_type": "code",
   "execution_count": 14,
   "id": "94e959e7-5807-441e-8dcc-08a13dd69a72",
   "metadata": {},
   "outputs": [
    {
     "name": "stdout",
     "output_type": "stream",
     "text": [
      "0 1 1 2 3 5 8 13 21 34 55 89 144 233 377 610 987 1597 2584 4181 6765 "
     ]
    }
   ],
   "source": [
    "def fib(n):\n",
    "    a,b=0,1\n",
    "    i=0\n",
    "    while(i<=n):\n",
    "        yield a\n",
    "        i+=1\n",
    "        a,b=b,a+b\n",
    "for i in fib(20):\n",
    "    print(i,end=\" \")\n",
    "    \n",
    "    "
   ]
  },
  {
   "cell_type": "markdown",
   "id": "a7cd6bd8-6eff-4684-a65c-f3232d88ea08",
   "metadata": {},
   "source": [
    "# Q7. Write a List Comprehension to iterate through the given string: ‘pwskills’.Expected output: ['p', 'w', 's', 'k', 'i', 'l', 'l', 's']"
   ]
  },
  {
   "cell_type": "code",
   "execution_count": 23,
   "id": "3b09ce3f-1851-4e40-8c32-158c1dd10095",
   "metadata": {},
   "outputs": [
    {
     "data": {
      "text/plain": [
       "['p', 'w', 's', 'k', 'i', 'l', 'l', 's']"
      ]
     },
     "execution_count": 23,
     "metadata": {},
     "output_type": "execute_result"
    }
   ],
   "source": [
    "l1=\"pwskills\"\n",
    "list(map(lambda l1:next(iter(l1)),l1))"
   ]
  },
  {
   "cell_type": "markdown",
   "id": "985fbc29-272d-484b-ac21-dc9c4a5ef94e",
   "metadata": {
    "jp-MarkdownHeadingCollapsed": true,
    "tags": []
   },
   "source": [
    "# Q8. Write a python program to check whether a given number is Palindrome or not using a while loop."
   ]
  },
  {
   "cell_type": "code",
   "execution_count": 30,
   "id": "e2a0f4b7-0893-4616-bd38-575dc76dfc12",
   "metadata": {},
   "outputs": [
    {
     "name": "stdout",
     "output_type": "stream",
     "text": [
      "Input a number\n"
     ]
    },
    {
     "name": "stdin",
     "output_type": "stream",
     "text": [
      " 454\n"
     ]
    },
    {
     "name": "stdout",
     "output_type": "stream",
     "text": [
      "454 is  a pallendrome number\n"
     ]
    }
   ],
   "source": [
    "print(\"Input a number\")\n",
    "a=int(input())\n",
    "p=a\n",
    "s=0\n",
    "while(a>0):\n",
    "    r=a%10\n",
    "    s=s*10+r\n",
    "    a=a//10\n",
    "if(s==p):\n",
    "    print(f\"{p} is  a pallendrome number\")\n",
    "else:\n",
    "     print(f\"{p} is not a pallendrome number\")\n",
    "    \n"
   ]
  },
  {
   "cell_type": "markdown",
   "id": "f5113c4d-b54a-4a27-a449-dabe3378347c",
   "metadata": {},
   "source": [
    "# Q9. Write a code to print odd numbers from 1 to 100 using list comprehension."
   ]
  },
  {
   "cell_type": "code",
   "execution_count": 42,
   "id": "ff636ced-54f3-4c63-9e84-5f8f2d20875b",
   "metadata": {},
   "outputs": [
    {
     "name": "stdout",
     "output_type": "stream",
     "text": [
      "0,1,2,3,4,5,6,7,8,9,10,11,12,13,14,15,16,17,18,19,20,21,22,23,24,25,26,27,28,29,30,31,32,33,34,35,36,37,38,39,40,41,42,43,44,45,46,47,48,49,"
     ]
    }
   ],
   "source": [
    "l=[]\n",
    "for i in range (1,101):\n",
    "    l.append(i)\n",
    "a=list(filter(lambda x: x%2!=0  ,l))\n",
    "for j in range (0,len(a)):\n",
    "    print(j,end=\",\")"
   ]
  },
  {
   "cell_type": "code",
   "execution_count": null,
   "id": "c0539c8d-7ce6-4b08-b25b-08caac5a61af",
   "metadata": {},
   "outputs": [],
   "source": []
  }
 ],
 "metadata": {
  "kernelspec": {
   "display_name": "Python 3 (ipykernel)",
   "language": "python",
   "name": "python3"
  },
  "language_info": {
   "codemirror_mode": {
    "name": "ipython",
    "version": 3
   },
   "file_extension": ".py",
   "mimetype": "text/x-python",
   "name": "python",
   "nbconvert_exporter": "python",
   "pygments_lexer": "ipython3",
   "version": "3.10.8"
  }
 },
 "nbformat": 4,
 "nbformat_minor": 5
}
